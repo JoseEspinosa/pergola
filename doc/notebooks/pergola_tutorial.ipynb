{
 "metadata": {
  "name": "",
  "signature": "sha256:8f164feb2504aafc2a2cc226cb7cc9438585a1e83c0630264eced6d49469040c"
 },
 "nbformat": 3,
 "nbformat_minor": 0,
 "worksheets": [
  {
   "cells": [
    {
     "cell_type": "raw",
     "metadata": {},
     "source": [
      ".. _getting_start:"
     ]
    },
    {
     "cell_type": "heading",
     "level": 1,
     "metadata": {},
     "source": [
      "Getting started"
     ]
    },
    {
     "cell_type": "heading",
     "level": 2,
     "metadata": {},
     "source": [
      "Input data"
     ]
    },
    {
     "cell_type": "heading",
     "level": 3,
     "metadata": {},
     "source": [
      "Sequence of temporal events"
     ]
    },
    {
     "cell_type": "markdown",
     "metadata": {},
     "source": [
      "Pergola can process any sequence of temporal events contained in a character-separated file as in the example below:  "
     ]
    },
    {
     "cell_type": "markdown",
     "metadata": {},
     "source": [
      "```\n",
      "Animal\tStartT\tEndT\tBehavior\tValue\n",
      "1\t37\t56\teat\t0.06\n",
      "1\t68\t92\teat\t0.02\n",
      "1\t150\t181\teat\t0.02\n",
      "1\t211\t233\tdrink\t0.08\n",
      "1\t357\t382\tdrink\t0.02\n",
      "1\t569\t601\tdrink\t0.02\n",
      "```"
     ]
    },
    {
     "cell_type": "markdown",
     "metadata": {},
     "source": [
      " *(note: this example loads a sequence of eating and drinking events from a experiment where mice were used to study feeding behavior *\n",
      "\n"
     ]
    },
    {
     "cell_type": "heading",
     "level": 3,
     "metadata": {},
     "source": [
      "Mapping file"
     ]
    },
    {
     "cell_type": "markdown",
     "metadata": {},
     "source": [
      "Pergola needs that you set the equivalences between the fields of the input data and a controled vocabular defined by Pergola ontology. The format of the mapping file is *[the external mapping file format](http://geneontology.org/page/external-mapping-file-format)* from the Gene Ontology Consortium, you can see an example below:"
     ]
    },
    {
     "cell_type": "markdown",
     "metadata": {},
     "source": [
      "```\n",
      "! Mapping of behavioural fields into genome browser fields\n",
      "!\n",
      "behavioural_file:Animal > pergola:track\n",
      "behavioural_file:StartT > pergola:chromStart\n",
      "behavioural_file:EndT > pergola:chromEnd\n",
      "behavioural_file:Behavior > pergola:dataTypes\n",
      "behavioural_file:Value > pergola:dataValue\n",
      "```"
     ]
    },
    {
     "cell_type": "code",
     "collapsed": false,
     "input": [],
     "language": "python",
     "metadata": {},
     "outputs": []
    },
    {
     "cell_type": "markdown",
     "metadata": {},
     "source": [
      "from pergola import mapping"
     ]
    },
    {
     "cell_type": "code",
     "collapsed": false,
     "input": [
      "from pergola import intervals"
     ],
     "language": "python",
     "metadata": {},
     "outputs": [],
     "prompt_number": 10
    },
    {
     "cell_type": "code",
     "collapsed": false,
     "input": [
      "mapping_data = mapping.MappingInfo(\"test/b2g.txt\")"
     ],
     "language": "python",
     "metadata": {},
     "outputs": [],
     "prompt_number": 11
    },
    {
     "cell_type": "code",
     "collapsed": false,
     "input": [
      "mapping_data.write()"
     ],
     "language": "python",
     "metadata": {},
     "outputs": [
      {
       "output_type": "stream",
       "stream": "stdout",
       "text": [
        "EndT \tchromEnd\n",
        "Nature \tdataTypes\n",
        "Value \tdataValue\n",
        "StartT \tchromStart\n",
        "Phase \tchrom\n",
        "CAGE \ttrack\n"
       ]
      }
     ],
     "prompt_number": 24
    },
    {
     "cell_type": "code",
     "collapsed": false,
     "input": [
      "mapping_data.correspondence['EndT']"
     ],
     "language": "python",
     "metadata": {},
     "outputs": [
      {
       "metadata": {},
       "output_type": "pyout",
       "prompt_number": 12,
       "text": [
        "'chromEnd'"
       ]
      }
     ],
     "prompt_number": 12
    },
    {
     "cell_type": "code",
     "collapsed": false,
     "input": [
      "int_data = intervals.IntData(\"data/sample_data/feedingBehavior_HF_mice.csv\", map_dict=mapping_data.correspondence)"
     ],
     "language": "python",
     "metadata": {},
     "outputs": [
      {
       "output_type": "stream",
       "stream": "stdout",
       "text": [
        "range in dicitionary is [0, 1, 2, 3, 4]\n"
       ]
      }
     ],
     "prompt_number": 14
    },
    {
     "cell_type": "code",
     "collapsed": false,
     "input": [
      "print int_data.min"
     ],
     "language": "python",
     "metadata": {},
     "outputs": [
      {
       "output_type": "stream",
       "stream": "stdout",
       "text": [
        "1335985200\n"
       ]
      }
     ],
     "prompt_number": 15
    },
    {
     "cell_type": "code",
     "collapsed": false,
     "input": [
      "print int_data.max"
     ],
     "language": "python",
     "metadata": {},
     "outputs": [
      {
       "output_type": "stream",
       "stream": "stdout",
       "text": [
        "1337766069\n"
       ]
      }
     ],
     "prompt_number": 16
    },
    {
     "cell_type": "code",
     "collapsed": false,
     "input": [
      "int_data.tracks"
     ],
     "language": "python",
     "metadata": {},
     "outputs": [
      {
       "metadata": {},
       "output_type": "pyout",
       "prompt_number": 17,
       "text": [
        "{'1',\n",
        " '10',\n",
        " '11',\n",
        " '12',\n",
        " '13',\n",
        " '14',\n",
        " '15',\n",
        " '16',\n",
        " '17',\n",
        " '18',\n",
        " '2',\n",
        " '3',\n",
        " '4',\n",
        " '5',\n",
        " '6',\n",
        " '7',\n",
        " '8',\n",
        " '9'}"
       ]
      }
     ],
     "prompt_number": 17
    },
    {
     "cell_type": "code",
     "collapsed": false,
     "input": [
      "mapping.write_chr (int_data)"
     ],
     "language": "python",
     "metadata": {},
     "outputs": [
      {
       "output_type": "stream",
       "stream": "stdout",
       "text": [
        "----------------------- 1780869\n"
       ]
      },
      {
       "output_type": "stream",
       "stream": "stderr",
       "text": [
        "Chromosome fasta like file will be dump into \"/Users/jespinosa/git/pergola\" as it has not been set using path_w\n",
        "Genome fasta file created: /Users/jespinosa/git/pergola/chr1.fa\n"
       ]
      }
     ],
     "prompt_number": 8
    },
    {
     "cell_type": "code",
     "collapsed": false,
     "input": [
      "# Generate a cytoband file and a bed file with phases\n",
      "mapping.write_cytoband(int_data, end = int_data.max - int_data.min, delta=43200, start_phase=\"dark\")"
     ],
     "language": "python",
     "metadata": {},
     "outputs": [
      {
       "output_type": "stream",
       "stream": "stderr",
       "text": [
        "Cytoband like file will be dump into \"/Users/jespinosa/git/pergola\" as it has not been set using path_w\n",
        "Bed files with phases will be dump into \"/Users/jespinosa/git/pergola\" as it has not been set using path_w\n"
       ]
      }
     ],
     "prompt_number": 9
    },
    {
     "cell_type": "code",
     "collapsed": false,
     "input": [
      "#data_read = intData.read(relative_coord=True, multiply_t=1)\n",
      "data_read = int_data.read(relative_coord=True)"
     ],
     "language": "python",
     "metadata": {},
     "outputs": [
      {
       "output_type": "stream",
       "stream": "stderr",
       "text": [
        "Relative coordinates set to: True\n"
       ]
      }
     ],
     "prompt_number": 10
    },
    {
     "cell_type": "code",
     "collapsed": false,
     "input": [
      "#for i in data_read.data:\n",
      "#        print i"
     ],
     "language": "python",
     "metadata": {},
     "outputs": [],
     "prompt_number": 11
    },
    {
     "cell_type": "code",
     "collapsed": false,
     "input": [
      "data_type_col = {'food_sc': 'green', 'food_fat':'red'}"
     ],
     "language": "python",
     "metadata": {},
     "outputs": [],
     "prompt_number": 12
    },
    {
     "cell_type": "code",
     "collapsed": false,
     "input": [
      "bed_str = data_read.convert(mode=\"bed\", data_types=[\"food_sc\", \"food_fat\"], dataTypes_actions=\"all\", \n",
      "                            color_restrictions=data_type_col)"
     ],
     "language": "python",
     "metadata": {},
     "outputs": [
      {
       "output_type": "stream",
       "stream": "stderr",
       "text": [
        "Removed data types are: water\n"
       ]
      }
     ],
     "prompt_number": 13
    },
    {
     "cell_type": "code",
     "collapsed": false,
     "input": [
      "for key in bed_str:\n",
      "    bedSingle = bed_str[key]\n",
      "    bedSingle.save_track()"
     ],
     "language": "python",
     "metadata": {},
     "outputs": [
      {
       "output_type": "stream",
       "stream": "stderr",
       "text": [
        "No path selected, files dump into path:  /Users/jespinosa/git/pergola\n",
        "File tr_8_dt_food_fat_food_sc.bed generated\n",
        "No path selected, files dump into path: "
       ]
      },
      {
       "output_type": "stream",
       "stream": "stdout",
       "text": [
        "Data type color gradient already set 'food_fat'.\n",
        "Data type color gradient already set 'food_sc'.\n",
        "Data type color gradient already set 'food_fat'."
       ]
      },
      {
       "output_type": "stream",
       "stream": "stderr",
       "text": [
        " /Users/jespinosa/git/pergola\n",
        "File tr_7_dt_food_sc.bed generated\n",
        "No path selected, files dump into path:  /Users/jespinosa/git/pergola\n",
        "File tr_6_dt_food_fat_food_sc.bed generated\n",
        "No path selected, files dump into path: "
       ]
      },
      {
       "output_type": "stream",
       "stream": "stdout",
       "text": [
        "\n",
        "Data type color gradient already set 'food_sc'.\n",
        "Data type color gradient already set 'food_fat'.\n",
        "Data type color gradient already set 'food_sc'.\n",
        "Data type color gradient already set 'food_fat'."
       ]
      },
      {
       "output_type": "stream",
       "stream": "stderr",
       "text": [
        " /Users/jespinosa/git/pergola\n",
        "File tr_14_dt_food_fat_food_sc.bed generated\n",
        "No path selected, files dump into path: "
       ]
      },
      {
       "output_type": "stream",
       "stream": "stdout",
       "text": [
        "\n",
        "Data type color gradient already set 'food_sc'.\n",
        "Data type color gradient already set 'food_fat'."
       ]
      },
      {
       "output_type": "stream",
       "stream": "stderr",
       "text": [
        " /Users/jespinosa/git/pergola\n",
        "File tr_3_dt_food_sc.bed generated\n",
        "No path selected, files dump into path:  /Users/jespinosa/git/pergola\n",
        "File tr_2_dt_food_fat_food_sc.bed generated\n",
        "No path selected, files dump into path:  /Users/jespinosa/git/pergola\n",
        "File tr_5_dt_food_sc.bed generated\n",
        "No path selected, files dump into path: "
       ]
      },
      {
       "output_type": "stream",
       "stream": "stdout",
       "text": [
        "\n",
        "Data type color gradient already set 'food_sc'.\n",
        "Data type color gradient already set 'food_fat'.\n",
        "Data type color gradient already set 'food_sc'.\n",
        "Data type color gradient already set 'food_fat'.\n",
        "Data type color gradient already set 'food_sc'.\n",
        "Data type color gradient already set 'food_fat'."
       ]
      },
      {
       "output_type": "stream",
       "stream": "stderr",
       "text": [
        " /Users/jespinosa/git/pergola\n",
        "File tr_10_dt_food_fat_food_sc.bed generated\n",
        "No path selected, files dump into path:  /Users/jespinosa/git/pergola\n",
        "File tr_1_dt_food_sc.bed generated\n",
        "No path selected, files dump into path: "
       ]
      },
      {
       "output_type": "stream",
       "stream": "stdout",
       "text": [
        "\n",
        "Data type color gradient already set 'food_sc'.\n",
        "Data type color gradient already set 'food_fat'.\n",
        "Data type color gradient already set 'food_sc'.\n",
        "Data type color gradient already set 'food_fat'."
       ]
      },
      {
       "output_type": "stream",
       "stream": "stderr",
       "text": [
        " /Users/jespinosa/git/pergola\n",
        "File tr_18_dt_food_fat_food_sc.bed generated\n",
        "No path selected, files dump into path: "
       ]
      },
      {
       "output_type": "stream",
       "stream": "stdout",
       "text": [
        "\n",
        "Data type color gradient already set 'food_sc'.\n",
        "Data type color gradient already set 'food_fat'."
       ]
      },
      {
       "output_type": "stream",
       "stream": "stderr",
       "text": [
        " /Users/jespinosa/git/pergola\n",
        "File tr_17_dt_food_sc.bed generated\n",
        "No path selected, files dump into path:  /Users/jespinosa/git/pergola\n",
        "File tr_16_dt_food_fat_food_sc.bed generated\n",
        "No path selected, files dump into path: "
       ]
      },
      {
       "output_type": "stream",
       "stream": "stdout",
       "text": [
        "\n",
        "Data type color gradient already set 'food_sc'.\n",
        "Data type color gradient already set 'food_fat'.\n",
        "Data type color gradient already set 'food_sc'.\n",
        "Data type color gradient already set 'food_fat'."
       ]
      },
      {
       "output_type": "stream",
       "stream": "stderr",
       "text": [
        " /Users/jespinosa/git/pergola\n",
        "File tr_9_dt_food_sc.bed generated\n",
        "No path selected, files dump into path:  /Users/jespinosa/git/pergola\n",
        "File tr_4_dt_food_fat_food_sc.bed generated\n",
        "No path selected, files dump into path: "
       ]
      },
      {
       "output_type": "stream",
       "stream": "stdout",
       "text": [
        "\n",
        "Data type color gradient already set 'food_sc'.\n",
        "Data type color gradient already set 'food_fat'.\n",
        "Data type color gradient already set 'food_sc'.\n",
        "Data type color gradient already set 'food_fat'."
       ]
      },
      {
       "output_type": "stream",
       "stream": "stderr",
       "text": [
        " /Users/jespinosa/git/pergola\n",
        "File tr_13_dt_food_sc.bed generated\n",
        "No path selected, files dump into path:  /Users/jespinosa/git/pergola\n",
        "File tr_12_dt_food_fat_food_sc.bed generated\n",
        "No path selected, files dump into path: "
       ]
      },
      {
       "output_type": "stream",
       "stream": "stdout",
       "text": [
        "\n",
        "Data type color gradient already set 'food_sc'.\n",
        "Data type color gradient already set 'food_fat'.\n",
        "Data type color gradient already set 'food_sc'.\n",
        "Data type color gradient already set 'food_fat'."
       ]
      },
      {
       "output_type": "stream",
       "stream": "stdout",
       "text": [
        "\n",
        "Data type color gradient already set 'food_sc'.\n",
        "Data type color gradient already set 'food_fat'.\n",
        "Data type color gradient already set 'food_sc'.\n"
       ]
      },
      {
       "output_type": "stream",
       "stream": "stderr",
       "text": [
        " /Users/jespinosa/git/pergola\n",
        "File tr_15_dt_food_sc.bed generated\n",
        "No path selected, files dump into path:  /Users/jespinosa/git/pergola\n",
        "File tr_11_dt_food_sc.bed generated\n"
       ]
      }
     ],
     "prompt_number": 14
    },
    {
     "cell_type": "code",
     "collapsed": false,
     "input": [
      "data_type_col_bedGraph = {'food_sc':'green', 'food_fat_food_sc':'red'}"
     ],
     "language": "python",
     "metadata": {},
     "outputs": [],
     "prompt_number": 15
    },
    {
     "cell_type": "code",
     "collapsed": false,
     "input": [
      "bedGraph_str = data_read.convert(mode=\"bedGraph\", window=1800, data_types=[\"food_sc\", \"food_fat\"], dataTypes_actions=\"all\", color_restrictions=data_type_col_bedGraph)"
     ],
     "language": "python",
     "metadata": {},
     "outputs": [
      {
       "output_type": "stream",
       "stream": "stdout",
       "text": [
        "Data type color gradient already set 'food_fat_food_sc'.\n",
        "Data type color gradient already set 'food_sc'.\n"
       ]
      },
      {
       "output_type": "stream",
       "stream": "stderr",
       "text": [
        "Removed data types are: water\n"
       ]
      }
     ],
     "prompt_number": 16
    },
    {
     "cell_type": "code",
     "collapsed": false,
     "input": [
      "for key in bedGraph_str:\n",
      "    bedGraph_single = bedGraph_str[key]\n",
      "    bedGraph_single.save_track()"
     ],
     "language": "python",
     "metadata": {},
     "outputs": [
      {
       "output_type": "stream",
       "stream": "stderr",
       "text": [
        "No path selected, files dump into path:  /Users/jespinosa/git/pergola\n",
        "File tr_8_dt_food_fat_food_sc.bedGraph generated\n",
        "No path selected, files dump into path:  /Users/jespinosa/git/pergola\n",
        "File tr_7_dt_food_sc.bedGraph generated\n",
        "No path selected, files dump into path:  /Users/jespinosa/git/pergola\n",
        "File tr_6_dt_food_fat_food_sc.bedGraph generated\n",
        "No path selected, files dump into path:  /Users/jespinosa/git/pergola\n",
        "File tr_14_dt_food_fat_food_sc.bedGraph generated\n",
        "No path selected, files dump into path: "
       ]
      },
      {
       "output_type": "stream",
       "stream": "stderr",
       "text": [
        " /Users/jespinosa/git/pergola\n",
        "File tr_3_dt_food_sc.bedGraph generated\n",
        "No path selected, files dump into path:  /Users/jespinosa/git/pergola\n",
        "File tr_2_dt_food_fat_food_sc.bedGraph generated\n",
        "No path selected, files dump into path:  /Users/jespinosa/git/pergola\n",
        "File tr_5_dt_food_sc.bedGraph generated\n",
        "No path selected, files dump into path:  /Users/jespinosa/git/pergola\n",
        "File tr_10_dt_food_fat_food_sc.bedGraph generated\n",
        "No path selected, files dump into path:  /Users/jespinosa/git/pergola\n",
        "File tr_1_dt_food_sc.bedGraph generated\n",
        "No path selected, files dump into path: "
       ]
      },
      {
       "output_type": "stream",
       "stream": "stderr",
       "text": [
        " /Users/jespinosa/git/pergola\n",
        "File tr_18_dt_food_fat_food_sc.bedGraph generated\n",
        "No path selected, files dump into path:  /Users/jespinosa/git/pergola\n",
        "File tr_17_dt_food_sc.bedGraph generated\n",
        "No path selected, files dump into path:  /Users/jespinosa/git/pergola\n",
        "File tr_16_dt_food_fat_food_sc.bedGraph generated\n",
        "No path selected, files dump into path:  /Users/jespinosa/git/pergola\n",
        "File tr_9_dt_food_sc.bedGraph generated\n",
        "No path selected, files dump into path: "
       ]
      },
      {
       "output_type": "stream",
       "stream": "stderr",
       "text": [
        " /Users/jespinosa/git/pergola\n",
        "File tr_4_dt_food_fat_food_sc.bedGraph generated\n",
        "No path selected, files dump into path:  /Users/jespinosa/git/pergola\n",
        "File tr_13_dt_food_sc.bedGraph generated\n",
        "No path selected, files dump into path:  /Users/jespinosa/git/pergola\n",
        "File tr_12_dt_food_fat_food_sc.bedGraph generated\n",
        "No path selected, files dump into path:  /Users/jespinosa/git/pergola\n",
        "File tr_15_dt_food_sc.bedGraph generated\n",
        "No path selected, files dump into path:  /Users/jespinosa/git/pergola\n",
        "File tr_11_dt_food_sc.bedGraph generated\n"
       ]
      }
     ],
     "prompt_number": 17
    },
    {
     "cell_type": "code",
     "collapsed": false,
     "input": [
      "## Bed file with separation by file\n",
      "# reading correspondence file\n",
      "mapping_file_data = mapping.OntologyInfo(\"test/f2g.txt\")"
     ],
     "language": "python",
     "metadata": {},
     "outputs": [],
     "prompt_number": 18
    },
    {
     "cell_type": "code",
     "collapsed": false,
     "input": [
      "mapping_file_data.write()"
     ],
     "language": "python",
     "metadata": {},
     "outputs": [
      {
       "output_type": "stream",
       "stream": "stdout",
       "text": [
        "Value \tdataValue\n",
        "EndT \tchromEnd\n",
        "StartT \tchromStart\n",
        "File \ttrack\n",
        "NameFile \tdataTypes\n"
       ]
      }
     ],
     "prompt_number": 19
    },
    {
     "cell_type": "code",
     "collapsed": false,
     "input": [
      "# Reading file info\n",
      "files_data = intervals.IntData(\"data/sample_data/files.csv\", ontology_dict=mapping_file_data.correspondence)\n",
      "data_file_read = files_data.read(relative_coord=True)"
     ],
     "language": "python",
     "metadata": {},
     "outputs": [
      {
       "output_type": "stream",
       "stream": "stdout",
       "text": [
        "..............fieldsB ['File', 'NameFile', 'StartT', 'EndT', 'Value']\n",
        "{'track': 0, 'chromStart': 2, 'dataTypes': 1, 'dataValue': 4, 'chromEnd': 3}\n",
        "range in dicitionary is [0, 1, 2, 3, 4]\n",
        "Factor to transform time values has been set to 1.0 as values set as chromStart are decimals\n",
        "If you want to set your own factor please use -m,--multiply_intervals n\n",
        ".......... [('track', 0), ('dataTypes', 1), ('chromStart', 2), ('chromEnd', 3), ('dataValue', 4)]\n"
       ]
      },
      {
       "output_type": "stream",
       "stream": "stderr",
       "text": [
        "Relative coordinates set to: True\n"
       ]
      }
     ],
     "prompt_number": 20
    },
    {
     "cell_type": "code",
     "collapsed": false,
     "input": [
      "bed_file = data_file_read.convert(mode=\"bed\", dataTypes_actions=\"all\", tracks_merge=files_data.tracks)\n"
     ],
     "language": "python",
     "metadata": {},
     "outputs": [
      {
       "output_type": "stream",
       "stream": "stderr",
       "text": [
        "Tracks that will be merged are: 1 3 2 5 4 7 6 9 8\n"
       ]
      }
     ],
     "prompt_number": 21
    },
    {
     "cell_type": "code",
     "collapsed": false,
     "input": [
      "for key in bed_file:\n",
      "    bed_file_single = bed_file[key]\n",
      "    bed_file_single.save_track(name_file = \"files_data\")"
     ],
     "language": "python",
     "metadata": {},
     "outputs": [
      {
       "output_type": "stream",
       "stream": "stderr",
       "text": [
        "No path selected, files dump into path:  /Users/jespinosa/git/pergola\n",
        "File files_data.bed generated\n"
       ]
      }
     ],
     "prompt_number": 22
    },
    {
     "cell_type": "code",
     "collapsed": false,
     "input": [],
     "language": "python",
     "metadata": {},
     "outputs": [],
     "prompt_number": 25
    },
    {
     "cell_type": "code",
     "collapsed": false,
     "input": [],
     "language": "python",
     "metadata": {},
     "outputs": [],
     "prompt_number": 25
    },
    {
     "cell_type": "code",
     "collapsed": false,
     "input": [],
     "language": "python",
     "metadata": {},
     "outputs": [],
     "prompt_number": 25
    },
    {
     "cell_type": "code",
     "collapsed": false,
     "input": [],
     "language": "python",
     "metadata": {},
     "outputs": []
    }
   ],
   "metadata": {}
  }
 ]
}