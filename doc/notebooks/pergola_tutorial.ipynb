{
 "metadata": {
  "name": "",
  "signature": "sha256:38d3487ffc03d2f14588771150b97051c721add9e9e3ff378e0fbd960104f3e6"
 },
 "nbformat": 3,
 "nbformat_minor": 0,
 "worksheets": [
  {
   "cells": [
    {
     "cell_type": "markdown",
     "metadata": {},
     "source": [
      ".. _getting_start:"
     ]
    },
    {
     "cell_type": "heading",
     "level": 1,
     "metadata": {},
     "source": [
      "Getting started"
     ]
    },
    {
     "cell_type": "heading",
     "level": 2,
     "metadata": {},
     "source": [
      "Input data"
     ]
    },
    {
     "cell_type": "heading",
     "level": 3,
     "metadata": {},
     "source": [
      "Sequence of temporal events"
     ]
    },
    {
     "cell_type": "markdown",
     "metadata": {},
     "source": [
      "Pergola can process any sequence of temporal events contained in a character-separated file as in the example below:  "
     ]
    },
    {
     "cell_type": "markdown",
     "metadata": {},
     "source": [
      "```\n",
      "Animal\tStartT\tEndT\tBehavior\tValue\n",
      "1\t137\t156\teat\t0.06\n",
      "1\t168\t192\tdrink\t0.02\n",
      "1\t250\t281\teat\t0.07\n",
      "1\t311\t333\teat\t0.08\n",
      "1\t457\t482\tdrink\t0.02\n",
      "1\t569\t601\tdrink\t0.03\n",
      "```"
     ]
    },
    {
     "cell_type": "markdown",
     "metadata": {},
     "source": [
      " *(note: this example loads a sequence of eating and drinking events from a experiment where mice were used to study feeding behavior *\n",
      "\n"
     ]
    },
    {
     "cell_type": "heading",
     "level": 3,
     "metadata": {},
     "source": [
      "Mapping file"
     ]
    },
    {
     "cell_type": "markdown",
     "metadata": {},
     "source": [
      "Pergola needs that you set the equivalences between the fields of the input data and a controled vocabular defined by Pergola ontology. The format of the mapping file is *[the external mapping file format](http://geneontology.org/page/external-mapping-file-format)* from the Gene Ontology Consortium, you can see an example below:"
     ]
    },
    {
     "cell_type": "markdown",
     "metadata": {},
     "source": [
      "```\n",
      "! Mapping of behavioural fields into genome browser fields\n",
      "!\n",
      "behavioural_file:Animal > pergola:track\n",
      "behavioural_file:StartT > pergola:chromStart\n",
      "behavioural_file:EndT > pergola:chromEnd\n",
      "behavioural_file:Behavior > pergola:dataTypes\n",
      "behavioural_file:Value > pergola:dataValue\n",
      "```"
     ]
    },
    {
     "cell_type": "code",
     "collapsed": false,
     "input": [
      "# You might have to set the path to run this notebook directly from ipython notebook\n",
      "import sys\n",
      "\n",
      "my_path_to_modules = \"/Library/Frameworks/Python.framework/Versions/2.7/lib/python2.7/site-packages/\"\n",
      "sys.path.append(my_path_to_modules)"
     ],
     "language": "python",
     "metadata": {},
     "outputs": [],
     "prompt_number": 1
    },
    {
     "cell_type": "heading",
     "level": 2,
     "metadata": {},
     "source": [
      "MappingInfo objects"
     ]
    },
    {
     "cell_type": "markdown",
     "metadata": {},
     "source": [
      "Mappings between the input data and pergola ontology are loaded in MappingInfo objects:"
     ]
    },
    {
     "cell_type": "code",
     "collapsed": false,
     "input": [
      "from pergola import mapping\n",
      "# load mapping file \n",
      "mapping_info = mapping.MappingInfo(\"../../sample_data/feeding_behavior/b2g.txt\")"
     ],
     "language": "python",
     "metadata": {},
     "outputs": [
      {
       "output_type": "stream",
       "stream": "stdout",
       "text": [
        "{'EndT': 'chromEnd', 'Nature': 'dataTypes', 'Value': 'dataValue', 'StartT': 'chromStart', 'Phase': 'chrom', 'CAGE': 'track'}\n"
       ]
      }
     ],
     "prompt_number": 2
    },
    {
     "cell_type": "markdown",
     "metadata": {},
     "source": [
      "To view the mappings MappingInfo objects provide the :func:`pergola.mapping.Mapping.write` method"
     ]
    },
    {
     "cell_type": "code",
     "collapsed": false,
     "input": [
      "mapping_info.write()"
     ],
     "language": "python",
     "metadata": {},
     "outputs": [
      {
       "output_type": "stream",
       "stream": "stdout",
       "text": [
        "EndT \tchromEnd\n",
        "Nature \tdataTypes\n",
        "Value \tdataValue\n",
        "StartT \tchromStart\n",
        "Phase \tchrom\n",
        "CAGE \ttrack\n"
       ]
      }
     ],
     "prompt_number": 11
    },
    {
     "cell_type": "markdown",
     "metadata": {},
     "source": [
      "MappingInfo objects are needed to load data into IntData objects as it will be explained in the lines below."
     ]
    },
    {
     "cell_type": "heading",
     "level": 2,
     "metadata": {},
     "source": [
      "IntData objects"
     ]
    },
    {
     "cell_type": "markdown",
     "metadata": {},
     "source": [
      "IntData objects load all the intervals of a file:"
     ]
    },
    {
     "cell_type": "code",
     "collapsed": false,
     "input": [
      "from pergola import parsers\n",
      "from pergola import intervals\n",
      "\n",
      "\n",
      "# load the data into an IntData object that will store the sequence of events\n",
      "int_data = intervals.IntData(\"../../sample_data/feedingBehavior_HF_mice.csv\", map_dict=mapping_info.correspondence)\n"
     ],
     "language": "python",
     "metadata": {},
     "outputs": [],
     "prompt_number": 4
    },
    {
     "cell_type": "markdown",
     "metadata": {},
     "source": [
      "Intervals when loaded are stored in a list of tuples that can be accessed by data attribute:"
     ]
    },
    {
     "cell_type": "code",
     "collapsed": false,
     "input": [
      "#Displays first 10 tuples of data list\n",
      "int_data.data[:10]"
     ],
     "language": "python",
     "metadata": {},
     "outputs": [
      {
       "metadata": {},
       "output_type": "pyout",
       "prompt_number": 5,
       "text": [
        "[('1', 1335986261, 'food_sc', 1335986151, '0.06'),\n",
        " ('1', 1335986330, 'food_sc', 1335986275, '0.02'),\n",
        " ('1', 1335986427, 'food_sc', 1335986341, '0.02'),\n",
        " ('1', 1335986451, 'water', 1335986420, '0.08'),\n",
        " ('1', 1335986553, 'water', 1335986541, '0.02'),\n",
        " ('1', 1335986844, 'water', 1335986832, '0.02'),\n",
        " ('1', 1335986947, 'food_sc', 1335986845, '0.02'),\n",
        " ('1', 1335987059, 'water', 1335987044, '0.02'),\n",
        " ('1', 1335987223, 'food_sc', 1335987089, '0.02'),\n",
        " ('1', 1335987495, 'food_sc', 1335987424, '0.02')]"
       ]
      }
     ],
     "prompt_number": 5
    },
    {
     "cell_type": "markdown",
     "metadata": {},
     "source": [
      "IntData objects also provide some other attributes like the set of different tracks (term for IDs in pergola ontology) contained in the data: "
     ]
    },
    {
     "cell_type": "code",
     "collapsed": false,
     "input": [
      "int_data.dataTypes"
     ],
     "language": "python",
     "metadata": {},
     "outputs": [
      {
       "metadata": {},
       "output_type": "pyout",
       "prompt_number": 16,
       "text": [
        "{'food_fat', 'food_sc', 'water'}"
       ]
      }
     ],
     "prompt_number": 16
    },
    {
     "cell_type": "markdown",
     "metadata": {},
     "source": [
      "The minimun value present in the data:"
     ]
    },
    {
     "cell_type": "code",
     "collapsed": false,
     "input": [
      "int_data.min"
     ],
     "language": "python",
     "metadata": {},
     "outputs": [
      {
       "metadata": {},
       "output_type": "pyout",
       "prompt_number": 18,
       "text": [
        "1337766069"
       ]
      }
     ],
     "prompt_number": 18
    },
    {
     "cell_type": "markdown",
     "metadata": {},
     "source": [
      "The maximun value:"
     ]
    },
    {
     "cell_type": "code",
     "collapsed": false,
     "input": [
      "int_data.max"
     ],
     "language": "python",
     "metadata": {},
     "outputs": [
      {
       "metadata": {},
       "output_type": "pyout",
       "prompt_number": 19,
       "text": [
        "1337766069"
       ]
      }
     ],
     "prompt_number": 19
    },
    {
     "cell_type": "markdown",
     "metadata": {},
     "source": [
      "The set of different tracks present in the data (term for different IDs in pergola ontology). In this case the different IDs for each mice:"
     ]
    },
    {
     "cell_type": "code",
     "collapsed": false,
     "input": [
      "int_data.tracks"
     ],
     "language": "python",
     "metadata": {},
     "outputs": [
      {
       "metadata": {},
       "output_type": "pyout",
       "prompt_number": 20,
       "text": [
        "{'1',\n",
        " '10',\n",
        " '11',\n",
        " '12',\n",
        " '13',\n",
        " '14',\n",
        " '15',\n",
        " '16',\n",
        " '17',\n",
        " '18',\n",
        " '2',\n",
        " '3',\n",
        " '4',\n",
        " '5',\n",
        " '6',\n",
        " '7',\n",
        " '8',\n",
        " '9'}"
       ]
      }
     ],
     "prompt_number": 20
    },
    {
     "cell_type": "markdown",
     "metadata": {},
     "source": [
      "And finally the dataTypes (term for different types of data in pergola ontology) that can be used to encode for example different behaviours:"
     ]
    },
    {
     "cell_type": "code",
     "collapsed": false,
     "input": [
      "int_data.dataTypes"
     ],
     "language": "python",
     "metadata": {},
     "outputs": [
      {
       "metadata": {},
       "output_type": "pyout",
       "prompt_number": 21,
       "text": [
        "{'food_fat', 'food_sc', 'water'}"
       ]
      }
     ],
     "prompt_number": 21
    },
    {
     "cell_type": "code",
     "collapsed": false,
     "input": [
      "mapping_info.write()"
     ],
     "language": "python",
     "metadata": {},
     "outputs": [
      {
       "output_type": "stream",
       "stream": "stdout",
       "text": [
        "EndT \tchromEnd\n",
        "Nature \tdataTypes\n",
        "Value \tdataValue\n",
        "StartT \tchromStart\n",
        "Phase \tchrom\n",
        "CAGE \ttrack\n"
       ]
      }
     ],
     "prompt_number": 12
    },
    {
     "cell_type": "code",
     "collapsed": false,
     "input": [
      "mapping_info.correspondence['EndT']"
     ],
     "language": "python",
     "metadata": {},
     "outputs": [
      {
       "metadata": {},
       "output_type": "pyout",
       "prompt_number": 14,
       "text": [
        "'chromEnd'"
       ]
      }
     ],
     "prompt_number": 14
    },
    {
     "cell_type": "code",
     "collapsed": false,
     "input": [
      "path_intervals = \"../../sample_data/feedingBehavior_HF_mice.csv\"\n",
      "int_data = intervals.IntData(path_intervals, map_dict=mapping_data.correspondence)"
     ],
     "language": "python",
     "metadata": {},
     "outputs": [],
     "prompt_number": 44
    },
    {
     "cell_type": "code",
     "collapsed": false,
     "input": [
      "print int_data.min"
     ],
     "language": "python",
     "metadata": {},
     "outputs": [
      {
       "output_type": "stream",
       "stream": "stdout",
       "text": [
        "1335985200\n"
       ]
      }
     ],
     "prompt_number": 45
    },
    {
     "cell_type": "code",
     "collapsed": false,
     "input": [
      "print int_data.max"
     ],
     "language": "python",
     "metadata": {},
     "outputs": [
      {
       "output_type": "stream",
       "stream": "stdout",
       "text": [
        "1337766069\n"
       ]
      }
     ],
     "prompt_number": 46
    },
    {
     "cell_type": "code",
     "collapsed": false,
     "input": [
      "int_data.tracks"
     ],
     "language": "python",
     "metadata": {},
     "outputs": [
      {
       "metadata": {},
       "output_type": "pyout",
       "prompt_number": 15,
       "text": [
        "{'1',\n",
        " '10',\n",
        " '11',\n",
        " '12',\n",
        " '13',\n",
        " '14',\n",
        " '15',\n",
        " '16',\n",
        " '17',\n",
        " '18',\n",
        " '2',\n",
        " '3',\n",
        " '4',\n",
        " '5',\n",
        " '6',\n",
        " '7',\n",
        " '8',\n",
        " '9'}"
       ]
      }
     ],
     "prompt_number": 15
    },
    {
     "cell_type": "heading",
     "level": 2,
     "metadata": {},
     "source": [
      "Data conversion:"
     ]
    },
    {
     "cell_type": "markdown",
     "metadata": {},
     "source": [
      "First we can treatar los datos relative coordinates and so on so for\n",
      "Data loaded in IntData can be converted to genomic-like format (bed, bedGraph) for its visualization in desktop genome and its analysis with genomic tools. We can pro"
     ]
    },
    {
     "cell_type": "code",
     "collapsed": false,
     "input": [
      "#data_read = intData.read(relative_coord=True, multiply_t=1)\n",
      "data_read = int_data.read(relative_coord=True)"
     ],
     "language": "python",
     "metadata": {},
     "outputs": []
    },
    {
     "cell_type": "code",
     "collapsed": false,
     "input": [
      "Primero poner todo lo que se puede hacer con el intdata\n",
      "y luego ya poner el resto\n"
     ],
     "language": "python",
     "metadata": {},
     "outputs": []
    },
    {
     "cell_type": "code",
     "collapsed": false,
     "input": [
      "mapping.write_chr (int_data)"
     ],
     "language": "python",
     "metadata": {},
     "outputs": [
      {
       "output_type": "stream",
       "stream": "stderr",
       "text": [
        "Chromosome fasta like file will be dump into \"/Users/jespinosa/git/pergola/doc/notebooks\" as it has not been set using path_w\n",
        "Genome fasta file created: /Users/jespinosa/git/pergola/doc/notebooks/chr1.fa\n"
       ]
      }
     ],
     "prompt_number": 48
    },
    {
     "cell_type": "code",
     "collapsed": false,
     "input": [
      "# Generate a cytoband file and a bed file with phases\n",
      "mapping.write_cytoband(int_data, end = int_data.max - int_data.min, delta=43200, start_phase=\"dark\")"
     ],
     "language": "python",
     "metadata": {},
     "outputs": [
      {
       "output_type": "stream",
       "stream": "stderr",
       "text": [
        "Cytoband like file will be dump into \"/Users/jespinosa/git/pergola/doc/notebooks\" as it has not been set using path_w\n",
        "Bed files with phases will be dump into \"/Users/jespinosa/git/pergola/doc/notebooks\" as it has not been set using path_w\n"
       ]
      }
     ],
     "prompt_number": 49
    },
    {
     "cell_type": "code",
     "collapsed": false,
     "input": [
      "#data_read = intData.read(relative_coord=True, multiply_t=1)\n",
      "data_read = int_data.read(relative_coord=True)"
     ],
     "language": "python",
     "metadata": {},
     "outputs": [
      {
       "output_type": "stream",
       "stream": "stderr",
       "text": [
        "Relative coordinates set to: True\n"
       ]
      }
     ],
     "prompt_number": 10
    },
    {
     "cell_type": "code",
     "collapsed": false,
     "input": [
      "#for i in data_read.data:\n",
      "#        print i"
     ],
     "language": "python",
     "metadata": {},
     "outputs": [],
     "prompt_number": 11
    },
    {
     "cell_type": "code",
     "collapsed": false,
     "input": [
      "data_type_col = {'food_sc': 'green', 'food_fat':'red'}"
     ],
     "language": "python",
     "metadata": {},
     "outputs": [],
     "prompt_number": 12
    },
    {
     "cell_type": "code",
     "collapsed": false,
     "input": [
      "bed_str = data_read.convert(mode=\"bed\", data_types=[\"food_sc\", \"food_fat\"], dataTypes_actions=\"all\", \n",
      "                            color_restrictions=data_type_col)"
     ],
     "language": "python",
     "metadata": {},
     "outputs": [
      {
       "output_type": "stream",
       "stream": "stderr",
       "text": [
        "Removed data types are: water\n"
       ]
      }
     ],
     "prompt_number": 13
    },
    {
     "cell_type": "code",
     "collapsed": false,
     "input": [
      "for key in bed_str:\n",
      "    bedSingle = bed_str[key]\n",
      "    bedSingle.save_track()"
     ],
     "language": "python",
     "metadata": {},
     "outputs": [
      {
       "output_type": "stream",
       "stream": "stderr",
       "text": [
        "No path selected, files dump into path:  /Users/jespinosa/git/pergola\n",
        "File tr_8_dt_food_fat_food_sc.bed generated\n",
        "No path selected, files dump into path: "
       ]
      },
      {
       "output_type": "stream",
       "stream": "stdout",
       "text": [
        "Data type color gradient already set 'food_fat'.\n",
        "Data type color gradient already set 'food_sc'.\n",
        "Data type color gradient already set 'food_fat'."
       ]
      },
      {
       "output_type": "stream",
       "stream": "stderr",
       "text": [
        " /Users/jespinosa/git/pergola\n",
        "File tr_7_dt_food_sc.bed generated\n",
        "No path selected, files dump into path:  /Users/jespinosa/git/pergola\n",
        "File tr_6_dt_food_fat_food_sc.bed generated\n",
        "No path selected, files dump into path: "
       ]
      },
      {
       "output_type": "stream",
       "stream": "stdout",
       "text": [
        "\n",
        "Data type color gradient already set 'food_sc'.\n",
        "Data type color gradient already set 'food_fat'.\n",
        "Data type color gradient already set 'food_sc'.\n",
        "Data type color gradient already set 'food_fat'."
       ]
      },
      {
       "output_type": "stream",
       "stream": "stderr",
       "text": [
        " /Users/jespinosa/git/pergola\n",
        "File tr_14_dt_food_fat_food_sc.bed generated\n",
        "No path selected, files dump into path: "
       ]
      },
      {
       "output_type": "stream",
       "stream": "stdout",
       "text": [
        "\n",
        "Data type color gradient already set 'food_sc'.\n",
        "Data type color gradient already set 'food_fat'."
       ]
      },
      {
       "output_type": "stream",
       "stream": "stderr",
       "text": [
        " /Users/jespinosa/git/pergola\n",
        "File tr_3_dt_food_sc.bed generated\n",
        "No path selected, files dump into path:  /Users/jespinosa/git/pergola\n",
        "File tr_2_dt_food_fat_food_sc.bed generated\n",
        "No path selected, files dump into path:  /Users/jespinosa/git/pergola\n",
        "File tr_5_dt_food_sc.bed generated\n",
        "No path selected, files dump into path: "
       ]
      },
      {
       "output_type": "stream",
       "stream": "stdout",
       "text": [
        "\n",
        "Data type color gradient already set 'food_sc'.\n",
        "Data type color gradient already set 'food_fat'.\n",
        "Data type color gradient already set 'food_sc'.\n",
        "Data type color gradient already set 'food_fat'.\n",
        "Data type color gradient already set 'food_sc'.\n",
        "Data type color gradient already set 'food_fat'."
       ]
      },
      {
       "output_type": "stream",
       "stream": "stderr",
       "text": [
        " /Users/jespinosa/git/pergola\n",
        "File tr_10_dt_food_fat_food_sc.bed generated\n",
        "No path selected, files dump into path:  /Users/jespinosa/git/pergola\n",
        "File tr_1_dt_food_sc.bed generated\n",
        "No path selected, files dump into path: "
       ]
      },
      {
       "output_type": "stream",
       "stream": "stdout",
       "text": [
        "\n",
        "Data type color gradient already set 'food_sc'.\n",
        "Data type color gradient already set 'food_fat'.\n",
        "Data type color gradient already set 'food_sc'.\n",
        "Data type color gradient already set 'food_fat'."
       ]
      },
      {
       "output_type": "stream",
       "stream": "stderr",
       "text": [
        " /Users/jespinosa/git/pergola\n",
        "File tr_18_dt_food_fat_food_sc.bed generated\n",
        "No path selected, files dump into path: "
       ]
      },
      {
       "output_type": "stream",
       "stream": "stdout",
       "text": [
        "\n",
        "Data type color gradient already set 'food_sc'.\n",
        "Data type color gradient already set 'food_fat'."
       ]
      },
      {
       "output_type": "stream",
       "stream": "stderr",
       "text": [
        " /Users/jespinosa/git/pergola\n",
        "File tr_17_dt_food_sc.bed generated\n",
        "No path selected, files dump into path:  /Users/jespinosa/git/pergola\n",
        "File tr_16_dt_food_fat_food_sc.bed generated\n",
        "No path selected, files dump into path: "
       ]
      },
      {
       "output_type": "stream",
       "stream": "stdout",
       "text": [
        "\n",
        "Data type color gradient already set 'food_sc'.\n",
        "Data type color gradient already set 'food_fat'.\n",
        "Data type color gradient already set 'food_sc'.\n",
        "Data type color gradient already set 'food_fat'."
       ]
      },
      {
       "output_type": "stream",
       "stream": "stderr",
       "text": [
        " /Users/jespinosa/git/pergola\n",
        "File tr_9_dt_food_sc.bed generated\n",
        "No path selected, files dump into path:  /Users/jespinosa/git/pergola\n",
        "File tr_4_dt_food_fat_food_sc.bed generated\n",
        "No path selected, files dump into path: "
       ]
      },
      {
       "output_type": "stream",
       "stream": "stdout",
       "text": [
        "\n",
        "Data type color gradient already set 'food_sc'.\n",
        "Data type color gradient already set 'food_fat'.\n",
        "Data type color gradient already set 'food_sc'.\n",
        "Data type color gradient already set 'food_fat'."
       ]
      },
      {
       "output_type": "stream",
       "stream": "stderr",
       "text": [
        " /Users/jespinosa/git/pergola\n",
        "File tr_13_dt_food_sc.bed generated\n",
        "No path selected, files dump into path:  /Users/jespinosa/git/pergola\n",
        "File tr_12_dt_food_fat_food_sc.bed generated\n",
        "No path selected, files dump into path: "
       ]
      },
      {
       "output_type": "stream",
       "stream": "stdout",
       "text": [
        "\n",
        "Data type color gradient already set 'food_sc'.\n",
        "Data type color gradient already set 'food_fat'.\n",
        "Data type color gradient already set 'food_sc'.\n",
        "Data type color gradient already set 'food_fat'."
       ]
      },
      {
       "output_type": "stream",
       "stream": "stdout",
       "text": [
        "\n",
        "Data type color gradient already set 'food_sc'.\n",
        "Data type color gradient already set 'food_fat'.\n",
        "Data type color gradient already set 'food_sc'.\n"
       ]
      },
      {
       "output_type": "stream",
       "stream": "stderr",
       "text": [
        " /Users/jespinosa/git/pergola\n",
        "File tr_15_dt_food_sc.bed generated\n",
        "No path selected, files dump into path:  /Users/jespinosa/git/pergola\n",
        "File tr_11_dt_food_sc.bed generated\n"
       ]
      }
     ],
     "prompt_number": 14
    },
    {
     "cell_type": "code",
     "collapsed": false,
     "input": [
      "data_type_col_bedGraph = {'food_sc':'green', 'food_fat_food_sc':'red'}"
     ],
     "language": "python",
     "metadata": {},
     "outputs": [],
     "prompt_number": 15
    },
    {
     "cell_type": "code",
     "collapsed": false,
     "input": [
      "bedGraph_str = data_read.convert(mode=\"bedGraph\", window=1800, data_types=[\"food_sc\", \"food_fat\"], dataTypes_actions=\"all\", color_restrictions=data_type_col_bedGraph)"
     ],
     "language": "python",
     "metadata": {},
     "outputs": [
      {
       "output_type": "stream",
       "stream": "stdout",
       "text": [
        "Data type color gradient already set 'food_fat_food_sc'.\n",
        "Data type color gradient already set 'food_sc'.\n"
       ]
      },
      {
       "output_type": "stream",
       "stream": "stderr",
       "text": [
        "Removed data types are: water\n"
       ]
      }
     ],
     "prompt_number": 16
    },
    {
     "cell_type": "code",
     "collapsed": false,
     "input": [
      "for key in bedGraph_str:\n",
      "    bedGraph_single = bedGraph_str[key]\n",
      "    bedGraph_single.save_track()"
     ],
     "language": "python",
     "metadata": {},
     "outputs": [
      {
       "output_type": "stream",
       "stream": "stderr",
       "text": [
        "No path selected, files dump into path:  /Users/jespinosa/git/pergola\n",
        "File tr_8_dt_food_fat_food_sc.bedGraph generated\n",
        "No path selected, files dump into path:  /Users/jespinosa/git/pergola\n",
        "File tr_7_dt_food_sc.bedGraph generated\n",
        "No path selected, files dump into path:  /Users/jespinosa/git/pergola\n",
        "File tr_6_dt_food_fat_food_sc.bedGraph generated\n",
        "No path selected, files dump into path:  /Users/jespinosa/git/pergola\n",
        "File tr_14_dt_food_fat_food_sc.bedGraph generated\n",
        "No path selected, files dump into path: "
       ]
      },
      {
       "output_type": "stream",
       "stream": "stderr",
       "text": [
        " /Users/jespinosa/git/pergola\n",
        "File tr_3_dt_food_sc.bedGraph generated\n",
        "No path selected, files dump into path:  /Users/jespinosa/git/pergola\n",
        "File tr_2_dt_food_fat_food_sc.bedGraph generated\n",
        "No path selected, files dump into path:  /Users/jespinosa/git/pergola\n",
        "File tr_5_dt_food_sc.bedGraph generated\n",
        "No path selected, files dump into path:  /Users/jespinosa/git/pergola\n",
        "File tr_10_dt_food_fat_food_sc.bedGraph generated\n",
        "No path selected, files dump into path:  /Users/jespinosa/git/pergola\n",
        "File tr_1_dt_food_sc.bedGraph generated\n",
        "No path selected, files dump into path: "
       ]
      },
      {
       "output_type": "stream",
       "stream": "stderr",
       "text": [
        " /Users/jespinosa/git/pergola\n",
        "File tr_18_dt_food_fat_food_sc.bedGraph generated\n",
        "No path selected, files dump into path:  /Users/jespinosa/git/pergola\n",
        "File tr_17_dt_food_sc.bedGraph generated\n",
        "No path selected, files dump into path:  /Users/jespinosa/git/pergola\n",
        "File tr_16_dt_food_fat_food_sc.bedGraph generated\n",
        "No path selected, files dump into path:  /Users/jespinosa/git/pergola\n",
        "File tr_9_dt_food_sc.bedGraph generated\n",
        "No path selected, files dump into path: "
       ]
      },
      {
       "output_type": "stream",
       "stream": "stderr",
       "text": [
        " /Users/jespinosa/git/pergola\n",
        "File tr_4_dt_food_fat_food_sc.bedGraph generated\n",
        "No path selected, files dump into path:  /Users/jespinosa/git/pergola\n",
        "File tr_13_dt_food_sc.bedGraph generated\n",
        "No path selected, files dump into path:  /Users/jespinosa/git/pergola\n",
        "File tr_12_dt_food_fat_food_sc.bedGraph generated\n",
        "No path selected, files dump into path:  /Users/jespinosa/git/pergola\n",
        "File tr_15_dt_food_sc.bedGraph generated\n",
        "No path selected, files dump into path:  /Users/jespinosa/git/pergola\n",
        "File tr_11_dt_food_sc.bedGraph generated\n"
       ]
      }
     ],
     "prompt_number": 17
    },
    {
     "cell_type": "code",
     "collapsed": false,
     "input": [
      "## Bed file showing the files (recordings)\n",
      "# reading correspondence file\n",
      "mapping_file_data = mapping.OntologyInfo(\"test/f2g.txt\")"
     ],
     "language": "python",
     "metadata": {},
     "outputs": [],
     "prompt_number": 18
    },
    {
     "cell_type": "code",
     "collapsed": false,
     "input": [
      "mapping_file_data.write()"
     ],
     "language": "python",
     "metadata": {},
     "outputs": [
      {
       "output_type": "stream",
       "stream": "stdout",
       "text": [
        "Value \tdataValue\n",
        "EndT \tchromEnd\n",
        "StartT \tchromStart\n",
        "File \ttrack\n",
        "NameFile \tdataTypes\n"
       ]
      }
     ],
     "prompt_number": 19
    },
    {
     "cell_type": "code",
     "collapsed": false,
     "input": [
      "# Reading file info\n",
      "files_data = intervals.IntData(\"data/sample_data/files.csv\", ontology_dict=mapping_file_data.correspondence)\n",
      "data_file_read = files_data.read(relative_coord=True)"
     ],
     "language": "python",
     "metadata": {},
     "outputs": [
      {
       "output_type": "stream",
       "stream": "stdout",
       "text": [
        "..............fieldsB ['File', 'NameFile', 'StartT', 'EndT', 'Value']\n",
        "{'track': 0, 'chromStart': 2, 'dataTypes': 1, 'dataValue': 4, 'chromEnd': 3}\n",
        "range in dicitionary is [0, 1, 2, 3, 4]\n",
        "Factor to transform time values has been set to 1.0 as values set as chromStart are decimals\n",
        "If you want to set your own factor please use -m,--multiply_intervals n\n",
        ".......... [('track', 0), ('dataTypes', 1), ('chromStart', 2), ('chromEnd', 3), ('dataValue', 4)]\n"
       ]
      },
      {
       "output_type": "stream",
       "stream": "stderr",
       "text": [
        "Relative coordinates set to: True\n"
       ]
      }
     ],
     "prompt_number": 20
    },
    {
     "cell_type": "code",
     "collapsed": false,
     "input": [
      "bed_file = data_file_read.convert(mode=\"bed\", dataTypes_actions=\"all\", tracks_merge=files_data.tracks)\n"
     ],
     "language": "python",
     "metadata": {},
     "outputs": [
      {
       "output_type": "stream",
       "stream": "stderr",
       "text": [
        "Tracks that will be merged are: 1 3 2 5 4 7 6 9 8\n"
       ]
      }
     ],
     "prompt_number": 21
    },
    {
     "cell_type": "code",
     "collapsed": false,
     "input": [
      "for key in bed_file:\n",
      "    bed_file_single = bed_file[key]\n",
      "    bed_file_single.save_track(name_file = \"files_data\")"
     ],
     "language": "python",
     "metadata": {},
     "outputs": [
      {
       "output_type": "stream",
       "stream": "stderr",
       "text": [
        "No path selected, files dump into path:  /Users/jespinosa/git/pergola\n",
        "File files_data.bed generated\n"
       ]
      }
     ],
     "prompt_number": 22
    },
    {
     "cell_type": "code",
     "collapsed": false,
     "input": [],
     "language": "python",
     "metadata": {},
     "outputs": [],
     "prompt_number": 25
    },
    {
     "cell_type": "code",
     "collapsed": false,
     "input": [],
     "language": "python",
     "metadata": {},
     "outputs": [],
     "prompt_number": 25
    },
    {
     "cell_type": "code",
     "collapsed": false,
     "input": [],
     "language": "python",
     "metadata": {},
     "outputs": [],
     "prompt_number": 25
    },
    {
     "cell_type": "code",
     "collapsed": false,
     "input": [],
     "language": "python",
     "metadata": {},
     "outputs": []
    }
   ],
   "metadata": {}
  }
 ]
}